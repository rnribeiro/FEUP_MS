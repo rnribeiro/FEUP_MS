{
 "cells": [
  {
   "cell_type": "code",
   "execution_count": 5,
   "metadata": {},
   "outputs": [],
   "source": [
    "import matplotlib.pyplot as plt\n",
    "import os\n",
    "import pandas as pd"
   ]
  },
  {
   "cell_type": "code",
   "execution_count": null,
   "metadata": {},
   "outputs": [],
   "source": [
    "# Define the ranges for x and y\n",
    "scenarios = range(1, 5)\n",
    "attempts = range(0, 10)\n",
    "types = ['confort','simple']\n",
    "models = ['dqn', 'ppo']\n",
    "# Create a figure for the plots\n",
    "plt.figure(figsize=(15, 10))\n",
    "\n",
    "df = pd.DataFrame(columns=['Scenario', 'Model', 'Attempt','Time Step' ,'Speed', 'Action', 'Type'])\n",
    "\n",
    "# Iterate over the ranges and plot the values\n",
    "for type in types:\n",
    "    for model in models:\n",
    "        for x in scenarios:\n",
    "            for y in attempts:\n",
    "                speed_path = f'test_results/speeds/speed_{x}_{model}_{type}_{y}.txt'\n",
    "                action_path = f'test_results/actions/action_{x}_{model}_{type}_{y}.txt'\n",
    "                speeds = []\n",
    "                actions = []\n",
    "\n",
    "                # Check if the file exists\n",
    "                if os.path.exists(speed_path):\n",
    "                    with open(speed_path, 'r') as file:\n",
    "                        lines = file.readlines()\n",
    "                        speeds = [float(line.strip()) for line in lines]\n",
    "                if os.path.exists(action_path):\n",
    "                    with open(action_path, 'r') as file:\n",
    "                        lines = file.readlines()\n",
    "                        actions = [line.strip() for line in lines]\n",
    "                \n",
    "                for i in range(len(speeds)):\n",
    "                    df = pd.concat([df, pd.DataFrame([[x, model.upper(), y, i, speeds[i], actions[i], \"Simple\" if type == 'simple' else \"Comfort\"]], columns=['Scenario', 'Model', 'Attempt','Time Step' ,'Speed', 'Action', 'Type'])])"
   ]
  },
  {
   "cell_type": "code",
   "execution_count": 3,
   "metadata": {},
   "outputs": [],
   "source": [
    "df"
   ]
  },
  {
   "cell_type": "code",
   "execution_count": 4,
   "metadata": {},
   "outputs": [],
   "source": [
    "# Calculate average speed grouping by scenario model and time step\n",
    "df_avg_speed = df.groupby(['Scenario', 'Model', 'Time Step','Type'])['Speed'].mean().reset_index()\n",
    "df_min_speed = df.groupby(['Scenario', 'Model', 'Time Step','Type'])['Speed'].min().reset_index()\n",
    "df_max_speed = df.groupby(['Scenario', 'Model', 'Time Step','Type'])['Speed'].max().reset_index()\n",
    "\n",
    "# Plot the average speed and with shadow min and max\n",
    "scenarios = df_avg_speed['Scenario'].unique()\n",
    "\n",
    "# Create subplots\n",
    "num_scenarios = len(scenarios)\n",
    "fig, axes = plt.subplots(num_scenarios, 1, figsize=(10, 5 * num_scenarios), sharex=False)\n",
    "\n",
    "# Plot the average speed with min and max shadows for each scenario\n",
    "for i, scenario in enumerate(scenarios):\n",
    "    ax = axes[i] if num_scenarios > 1 else axes\n",
    "    for model in df_avg_speed['Model'].unique():\n",
    "        for type in df_avg_speed['Type'].unique():\n",
    "            df_scenario = df_avg_speed[(df_avg_speed['Scenario'] == scenario) & (df_avg_speed['Model'] == model) & (df_avg_speed['Type'] == type)]\n",
    "            df_scenario_min = df_min_speed[(df_min_speed['Scenario'] == scenario) & (df_min_speed['Model'] == model) & (df_min_speed['Type'] == type)]\n",
    "            df_scenario_max = df_max_speed[(df_max_speed['Scenario'] == scenario) & (df_max_speed['Model'] == model) & (df_max_speed['Type'] == type)]          \n",
    "            ax.plot(df_scenario['Time Step'], df_scenario['Speed'], label=f'{model} {type}')\n",
    "            ax.fill_between(df_scenario['Time Step'], df_scenario_min['Speed'], df_scenario_max['Speed'], alpha=0.2)\n",
    "    \n",
    "    ax.set_title(f'Scenario {scenario}')\n",
    "    ax.set_xlabel('Time Step')\n",
    "    ax.set_ylabel('Speed')\n",
    "    ax.legend()\n",
    "    ax.grid(True)\n",
    "\n",
    "print(df.shape)\n",
    "\n",
    "# Adjust layout and show the plot\n",
    "plt.tight_layout()\n",
    "plt.show()"
   ]
  },
  {
   "cell_type": "code",
   "execution_count": null,
   "metadata": {},
   "outputs": [],
   "source": [
    "crash_path = 'test_results/crash.txt'\n",
    "crash = []\n",
    "if os.path.exists(crash_path):\n",
    "    with open(crash_path, 'r') as file:\n",
    "        lines = file.readlines()\n",
    "        crash = [line.strip() for line in lines]\n",
    "\n",
    "df_crash = pd.DataFrame(columns=['Scenario', 'Model', 'Attempt', 'Crash'])\n",
    "for c in crash:\n",
    "    scenario, model, type,attempt, crash = c.split('_')\n",
    "    df_crash = pd.concat([df_crash, pd.DataFrame([[scenario, model, type, attempt, crash]], columns=['Scenario', 'Model', 'Type', 'Attempt', 'Crash'])])\n",
    "    \n",
    "df_crash\n"
   ]
  },
  {
   "cell_type": "code",
   "execution_count": null,
   "metadata": {},
   "outputs": [],
   "source": [
    "# create table with comparison between ppo and dqn per scenario for Simple type, for the values of speed, crash and action\n",
    "df_comparison = pd.DataFrame(columns=['Scenario', 'Model', 'Speed', 'Crash', 'Action'])\n",
    "for scenario in scenarios:\n",
    "    for model in models:\n",
    "        df_scenario = df[(df['Scenario'] == scenario) & (df['Model'] == model) & (df['Type'] == 'Simple')]\n",
    "        df_crash_scenario = df_crash[(df_crash['Scenario'] == str(scenario)) & (df_crash['Model'] == model)]\n",
    "        df_comparison = pd.concat([df_comparison, pd.DataFrame([[scenario, model, df_scenario['Speed'].mean(), df_crash_scenario['Crash'].count(), df_scenario['Action'].mode()[0]]], columns=['Scenario', 'Model', 'Speed', 'Crash', 'Action'])])\n",
    "\n",
    "df_comparison"
   ]
  }
 ],
 "metadata": {
  "kernelspec": {
   "display_name": "Python 3",
   "language": "python",
   "name": "python3"
  },
  "language_info": {
   "codemirror_mode": {
    "name": "ipython",
    "version": 3
   },
   "file_extension": ".py",
   "mimetype": "text/x-python",
   "name": "python",
   "nbconvert_exporter": "python",
   "pygments_lexer": "ipython3",
   "version": "3.12.7"
  }
 },
 "nbformat": 4,
 "nbformat_minor": 2
}
