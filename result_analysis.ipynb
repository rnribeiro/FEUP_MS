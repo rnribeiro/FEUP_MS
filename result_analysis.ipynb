{
 "cells": [
  {
   "cell_type": "code",
   "execution_count": 1,
   "metadata": {},
   "outputs": [],
   "source": [
    "import matplotlib.pyplot as plt\n",
    "import os\n",
    "import pandas as pd"
   ]
  },
  {
   "cell_type": "code",
   "execution_count": null,
   "metadata": {},
   "outputs": [],
   "source": [
    "# Define the ranges for x and y\n",
    "scenarios = range(1, 5)\n",
    "attempts = range(0, 10)\n",
    "types = ['confort','simple']\n",
    "models = ['dqn', 'ppo']\n",
    "# Create a figure for the plots\n",
    "plt.figure(figsize=(15, 10))\n",
    "\n",
    "df = pd.DataFrame(columns=['Scenario', 'Model', 'Attempt','Time Step' ,'Speed', 'Action', 'Type'])\n",
    "\n",
    "# Iterate over the ranges and plot the values\n",
    "for type in types:\n",
    "    for model in models:\n",
    "        for x in scenarios:\n",
    "            for y in attempts:\n",
    "                speed_path = f'test_results/speeds/speed_{x}_{model}_{type}_{y}.txt'\n",
    "                action_path = f'test_results/actions/action_{x}_{model}_{type}_{y}.txt'\n",
    "                speeds = []\n",
    "                actions = []\n",
    "\n",
    "                # Check if the file exists\n",
    "                if os.path.exists(speed_path):\n",
    "                    with open(speed_path, 'r') as file:\n",
    "                        lines = file.readlines()\n",
    "                        speeds = [float(line.strip()) for line in lines]\n",
    "                if os.path.exists(action_path):\n",
    "                    with open(action_path, 'r') as file:\n",
    "                        lines = file.readlines()\n",
    "                        actions = [line.strip() for line in lines]\n",
    "                \n",
    "                for i in range(len(speeds)):\n",
    "                    df = pd.concat([df, pd.DataFrame([[x, model.upper(), y, i, speeds[i], actions[i], \"Simple\" if type == 'simple' else \"Comfort\"]], columns=['Scenario', 'Model', 'Attempt','Time Step' ,'Speed', 'Action', 'Type'])])\n",
    "df"
   ]
  },
  {
   "cell_type": "code",
   "execution_count": null,
   "metadata": {},
   "outputs": [],
   "source": [
    "# Calculate average speed grouping by scenario model and time step\n",
    "df_avg_speed = df.groupby(['Scenario', 'Model', 'Time Step','Type'])['Speed'].mean().reset_index()\n",
    "df_min_speed = df.groupby(['Scenario', 'Model', 'Time Step','Type'])['Speed'].min().reset_index()\n",
    "df_max_speed = df.groupby(['Scenario', 'Model', 'Time Step','Type'])['Speed'].max().reset_index()\n",
    "\n",
    "# Plot the average speed and with shadow min and max\n",
    "scenarios = df_avg_speed['Scenario'].unique()\n",
    "\n",
    "# Create subplots\n",
    "num_scenarios = len(scenarios)\n",
    "fig, axes = plt.subplots(num_scenarios, 1, figsize=(10, 5 * num_scenarios), sharex=False)\n",
    "\n",
    "# Plot the average speed with min and max shadows for each scenario\n",
    "for i, scenario in enumerate(scenarios):\n",
    "    ax = axes[i] if num_scenarios > 1 else axes\n",
    "    for model in df_avg_speed['Model'].unique():\n",
    "        for type in df_avg_speed['Type'].unique():\n",
    "            df_scenario = df_avg_speed[(df_avg_speed['Scenario'] == scenario) & (df_avg_speed['Model'] == model) & (df_avg_speed['Type'] == type)]\n",
    "            df_scenario_min = df_min_speed[(df_min_speed['Scenario'] == scenario) & (df_min_speed['Model'] == model) & (df_min_speed['Type'] == type)]\n",
    "            df_scenario_max = df_max_speed[(df_max_speed['Scenario'] == scenario) & (df_max_speed['Model'] == model) & (df_max_speed['Type'] == type)]          \n",
    "            ax.plot(df_scenario['Time Step'], df_scenario['Speed'], label=f'{model} {type}')\n",
    "            ax.fill_between(df_scenario['Time Step'], df_scenario_min['Speed'], df_scenario_max['Speed'], alpha=0.2)\n",
    "    \n",
    "    ax.set_title(f'Scenario {scenario}')\n",
    "    ax.set_xlabel('Time Step')\n",
    "    ax.set_ylabel('Speed')\n",
    "    ax.legend()\n",
    "    ax.grid(True)\n",
    "\n",
    "print(df.shape)\n",
    "\n",
    "# Adjust layout and show the plot\n",
    "plt.tight_layout()\n",
    "plt.show()"
   ]
  },
  {
   "cell_type": "code",
   "execution_count": null,
   "metadata": {},
   "outputs": [],
   "source": [
    "crash_path = 'test_results/crash.txt'\n",
    "crash = []\n",
    "if os.path.exists(crash_path):\n",
    "    with open(crash_path, 'r') as file:\n",
    "        lines = file.readlines()\n",
    "        crash = [line.strip() for line in lines]\n",
    "\n",
    "df_crash = pd.DataFrame(columns=['Scenario', 'Model','Type', 'Attempt', 'Crash'])\n",
    "for c in crash:\n",
    "    scenario, model, type,attempt, crash = c.split('_')\n",
    "    df_crash = pd.concat([df_crash, pd.DataFrame([[int(scenario), model.upper(), \"Simple\" if type=='simple' else \"Comfort\", int(attempt), 0 if crash == \"False\" else 1]], columns=['Scenario', 'Model', 'Type', 'Attempt', 'Crash'])])\n",
    "    \n",
    "df_crash\n"
   ]
  },
  {
   "cell_type": "code",
   "execution_count": null,
   "metadata": {},
   "outputs": [],
   "source": [
    "# in the df dataframe, add a crash column where the value is true for the last time step of a scenario, model, type and attempt where the df_crash has a crash value of true\n",
    "df['Crash'] = False\n",
    "\n",
    "for index, row in df.iterrows():\n",
    "    scenario = row['Scenario']\n",
    "\n",
    "    model = row['Model']\n",
    "    type = row['Type']\n",
    "    attempt = row['Attempt']\n",
    "    time_step = row['Time Step']\n",
    "    if len(df_crash[(df_crash['Scenario'] == scenario) & (df_crash['Model'] == model) & (df_crash['Type'] == type) & (df_crash['Attempt'] == attempt) & (df_crash['Crash'] == True)] ) > 0:\n",
    "        df.loc[(df['Scenario'] == scenario) & (df['Model'] == model) & (df['Type'] == type) & (df['Attempt'] == attempt) & (df['Time Step'] == time_step), 'Crash'] = True\n",
    "  \n"
   ]
  },
  {
   "cell_type": "code",
   "execution_count": null,
   "metadata": {},
   "outputs": [],
   "source": [
    "# group by scenario, model, type, attempt and calculate the average speed and select the last time step for the crash column and the percentage between the actions equal 1, 2 or 3 being 1 \n",
    "\n",
    "agreegated = df.groupby(['Scenario', 'Model', 'Type', 'Attempt']).agg({'Speed': 'mean', 'Crash': 'last', 'Action': lambda x: (x == '1').sum() / sum([1 if (y == \"1\" or y == \"3\" or y == \"4\") else 0 for y in x])}).reset_index()\n",
    "# rename the column Action to Idle \n",
    "\n",
    "agreegated.rename(columns={'Action': 'Idle'}, inplace=True)\n",
    "\n",
    "agreegated"
   ]
  },
  {
   "cell_type": "code",
   "execution_count": null,
   "metadata": {},
   "outputs": [],
   "source": [
    "# group by scenario, model, type and calculate the average speed, the percentage of crash and the percentage of idle\n",
    "\n",
    "agreegated_final = agreegated.groupby(['Scenario', 'Model', 'Type']).agg({'Speed': 'mean', 'Crash': lambda x: (x == True).sum() / len(x), 'Idle': 'mean'}).reset_index()\n",
    "\n",
    "agreegated_final"
   ]
  },
  {
   "cell_type": "markdown",
   "metadata": {},
   "source": [
    "# COMPARACAO DE MODELOS"
   ]
  },
  {
   "cell_type": "code",
   "execution_count": null,
   "metadata": {},
   "outputs": [],
   "source": [
    "# compare the simple ones only \n",
    "agreegated_final_simple = agreegated_final[agreegated_final['Type'] == 'Simple']\n",
    "# sort the values by the speed\n",
    "agreegated_final_simple.sort_values(by=['Scenario', 'Model'], ascending=[True, False], inplace=True)\n",
    "agreegated_final_simple"
   ]
  },
  {
   "cell_type": "markdown",
   "metadata": {},
   "source": [
    "# Comparacao de Comforto"
   ]
  },
  {
   "cell_type": "code",
   "execution_count": null,
   "metadata": {},
   "outputs": [],
   "source": [
    "# compare the dqns simple and comfort\n",
    "agreegated_final_dqn = agreegated_final[agreegated_final['Model'] == 'DQN']\n",
    "\n",
    "agreegated_final_dqn\n"
   ]
  },
  {
   "cell_type": "markdown",
   "metadata": {},
   "source": [
    " importante ressaltar que de vez em quando o gajo fica a spammar 2, para a direita, porque associou a accao para a direita com rewards (idle do sce 2)\n",
    " crash diminui"
   ]
  }
 ],
 "metadata": {
  "kernelspec": {
   "display_name": "Python 3",
   "language": "python",
   "name": "python3"
  },
  "language_info": {
   "codemirror_mode": {
    "name": "ipython",
    "version": 3
   },
   "file_extension": ".py",
   "mimetype": "text/x-python",
   "name": "python",
   "nbconvert_exporter": "python",
   "pygments_lexer": "ipython3",
   "version": "3.12.7"
  }
 },
 "nbformat": 4,
 "nbformat_minor": 2
}
