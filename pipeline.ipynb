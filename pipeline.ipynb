{
 "cells": [
  {
   "cell_type": "code",
   "execution_count": 14,
   "metadata": {
    "ExecuteTime": {
     "end_time": "2024-12-12T12:19:30.613892Z",
     "start_time": "2024-12-12T12:19:30.610409Z"
    }
   },
   "outputs": [],
   "source": [
    "import json\n",
    "import gymnasium as gym\n",
    "from stable_baselines3 import PPO, DQN\n",
    "from stable_baselines3.common.env_util import make_vec_env\n",
    "from stable_baselines3.common.vec_env import SubprocVecEnv\n",
    "\n",
    "import time"
   ]
  },
  {
   "cell_type": "code",
   "execution_count": 15,
   "metadata": {
    "ExecuteTime": {
     "end_time": "2024-12-12T12:19:30.632270Z",
     "start_time": "2024-12-12T12:19:30.628235Z"
    }
   },
   "outputs": [],
   "source": [
    "# Load the arguments from args.json\n",
    "with open('args.json', 'r') as f:\n",
    "    args = json.load(f)\n",
    "scenarios = args['scenarios']\n",
    "# scenarios"
   ]
  },
  {
   "cell_type": "code",
   "execution_count": 16,
   "metadata": {
    "ExecuteTime": {
     "end_time": "2024-12-12T12:19:30.643961Z",
     "start_time": "2024-12-12T12:19:30.640835Z"
    }
   },
   "outputs": [],
   "source": [
    "total_timesteps = int(1e3)\n",
    "\n",
    "scenarios_to_run = [\n",
    "    1,\n",
    "    # 2,\n",
    "    # 3,\n",
    "    # 4\n",
    "]"
   ]
  },
  {
   "cell_type": "code",
   "execution_count": 17,
   "metadata": {
    "ExecuteTime": {
     "end_time": "2024-12-12T12:19:30.656623Z",
     "start_time": "2024-12-12T12:19:30.650899Z"
    }
   },
   "outputs": [],
   "source": [
    "# Function to create a video demonstration of the model\n",
    "def create_video(scenario_id: int, model: str) -> None:\n",
    "    if model not in ['ppo', 'dqn']:\n",
    "        raise ValueError(\"Model must be either 'ppo' or 'dqn'\")\n",
    "\n",
    "    # Load the environment\n",
    "    video_env = gym.make(f\"scenario_{scenario_id}_env\", render_mode='rgb_array')\n",
    "\n",
    "    video_model = PPO.load(f\"./trained_models/scenario_{scenario_id}_ppo\") if model == 'ppo' else DQN.load(f\"./trained_models/scenario_{scenario_id}_dqn\")\n",
    "\n",
    "    obs, _ = video_env.reset()\n",
    "    done = truncated = False\n",
    "    obs, info = video_env.reset()\n",
    "    for _ in range(1000):\n",
    "        action, _ = video_model.predict(obs, deterministic=True)\n",
    "        # print(action)\n",
    "        obs, reward, done, truncated, info = video_env.step(action)\n",
    "        video_env.render()\n",
    "        time.sleep(1/20)  # Add a delay to achieve 30 fps\n",
    "        if done:\n",
    "            obs, _ = video_env.reset()"
   ]
  },
  {
   "cell_type": "code",
   "execution_count": null,
   "metadata": {
    "ExecuteTime": {
     "end_time": "2024-12-12T12:20:57.844724Z",
     "start_time": "2024-12-12T12:19:30.669816Z"
    }
   },
   "outputs": [],
   "source": [
    "# Train PPO and DQN models for each scenario\n",
    "for scenario in scenarios:\n",
    "    if scenario['id'] in scenarios_to_run:\n",
    "        # Clear the action.txt log file\n",
    "        with open('action.txt', 'w') as f:\n",
    "            f.write(\"\")\n",
    "        scenario_id = scenario['id']\n",
    "        scenario_name = scenario['name']\n",
    "        env_config = scenario['config']\n",
    "        env_id = f\"scenario_{scenario_id}_env\"\n",
    "\n",
    "        # Register the environment\n",
    "        gym.envs.register(\n",
    "            id=env_id,\n",
    "            entry_point=scenario['env']['entry_point'],\n",
    "            kwargs={'config': env_config}\n",
    "        )\n",
    "\n",
    "        env = gym.make(env_id, render_mode='rgb_array')\n",
    "        obs, info = env.reset()\n",
    "        env = Monitor(env)  # Wrap the environment with Monitor\n",
    "\n",
    "        # Create and train PPO model\n",
    "        ppo_model = PPO(\"MlpPolicy\",\n",
    "                        env,\n",
    "                        policy_kwargs=dict(net_arch=[dict(pi=[256, 256], vf=[256, 256])]),\n",
    "                        n_steps=batch_size * 12 // n_cpu,\n",
    "                        batch_size=batch_size,\n",
    "                        n_epochs=10,\n",
    "                        learning_rate=5e-4,\n",
    "                        gamma=0.8,\n",
    "                        verbose=2,\n",
    "                        tensorboard_log=f\"./logs/scenario_{scenario_id}_ppo/\",\n",
    "                        device='cuda')\n",
    "\n",
    "        ppo_model.learn(total_timesteps)\n",
    "        ppo_model.save(f\"./trained_models/scenario_{scenario_id}_ppo\")\n",
    "        \n",
    "\n",
    "\n",
    "        # Clear the action.txt log file\n",
    "        with open('action.txt', 'w') as f:\n",
    "            f.write(\"\")\n",
    "\n",
    "        # Create and train DQN model\n",
    "        dqn_model = DQN(\"MlpPolicy\",\n",
    "                        env,\n",
    "                        policy_kwargs=dict(net_arch=[256, 256]),\n",
    "                        learning_rate=5e-4,\n",
    "                        buffer_size=15000,\n",
    "                        learning_starts=200,\n",
    "                        batch_size=32,\n",
    "                        gamma=0.8,\n",
    "                        train_freq=1,\n",
    "                        gradient_steps=1,\n",
    "                        target_update_interval=50,\n",
    "                        verbose=1,\n",
    "                        tensorboard_log=f\"./logs/scenario_{scenario_id}_dqn/\",\n",
    "                        device='cuda')\n",
    "\n",
    "        dqn_model.learn(total_timesteps)\n",
    "        dqn_model.save(f\"./trained_models/scenario_{scenario_id}_dqn\")\n",
    "\n",
    "        # Evaluate the models\n",
    "        ppo_mean_reward, ppo_std_reward = evaluate_policy(ppo_model, env, n_eval_episodes=10)\n",
    "        dqn_mean_reward, dqn_std_reward = evaluate_policy(dqn_model, env, n_eval_episodes=10)\n",
    "\n",
    "        print(f\"Scenario {scenario_id} - PPO Average reward: {ppo_mean_reward} ± {ppo_std_reward}\")\n",
    "        print(f\"Scenario {scenario_id} - DQN Average reward: {dqn_mean_reward} ± {dqn_std_reward}\")\n",
    "\n",
    "        # Close the environment\n",
    "        env.close()"
   ]
  },
  {
   "cell_type": "code",
   "execution_count": null,
   "metadata": {
    "ExecuteTime": {
     "end_time": "2024-12-12T12:21:05.551694Z",
     "start_time": "2024-12-12T12:20:57.887811Z"
    }
   },
   "outputs": [],
   "source": [
    "create_video(1, 'ppo')"
   ]
  },
  {
   "cell_type": "code",
   "execution_count": null,
   "metadata": {},
   "outputs": [],
   "source": [
    "# Load the arguments from args.json\n",
    "with open('args.json', 'r') as f:\n",
    "    args = json.load(f)\n",
    "scenarios = args['scenarios']\n"
   ]
  },
  {
   "cell_type": "code",
   "execution_count": null,
   "metadata": {},
   "outputs": [],
   "source": [
    "# Train PPO and DQN models for each scenario\n",
    "for scenario in scenarios:\n",
    "    scenario_id = scenario['id']\n",
    "    scenario_name = scenario['name']\n",
    "    env_config = scenario['config']\n",
    "    env_id = f\"scenario_{scenario_id}_env\"\n",
    "    \n",
    "    # Register the environment\n",
    "    gym.envs.register(\n",
    "        id=env_id,\n",
    "        entry_point=scenario['env']['entry_point'],\n",
    "        kwargs={'config': env_config}\n",
    "    )\n",
    "    \n",
    "    env = gym.make(env_id, render_mode='rgb_array')\n",
    "    \n",
    "    # Create and train PPO model\n",
    "    ppo_model = PPO('MlpPolicy', env,\n",
    "                   policy_kwargs=dict(net_arch=[256, 256]),\n",
    "                   learning_rate=5e-4,\n",
    "                   batch_size=128,\n",
    "                   gamma=0.8,\n",
    "                   n_steps=2048,\n",
    "                   ent_coef=0.01,\n",
    "                   vf_coef=0.5,\n",
    "                   max_grad_norm=0.5,\n",
    "                   gae_lambda=0.95,\n",
    "                   clip_range=0.2,\n",
    "                   verbose=1,\n",
    "                   tensorboard_log=f\"logs/ppo_scenario_{scenario_id}/\",\n",
    "                   device='cuda')\n",
    "    ppo_model.learn(int(1e3))\n",
    "    ppo_model.save(f\"ppo_scenario_{scenario_id}_model\")\n",
    "    \n",
    "    # Create and train DQN model\n",
    "    dqn_model = DQN('MlpPolicy', env,\n",
    "                   policy_kwargs=dict(net_arch=[256, 256]),\n",
    "                   learning_rate=5e-4,\n",
    "                   buffer_size=15000,\n",
    "                   learning_starts=200,\n",
    "                   batch_size=32,\n",
    "                   gamma=0.8,\n",
    "                   train_freq=1,\n",
    "                   gradient_steps=1,\n",
    "                   target_update_interval=50,\n",
    "                   verbose=1,\n",
    "                   tensorboard_log=f\"logs/dqn_scenario_{scenario_id}/\",\n",
    "                   device='cuda')\n",
    "    dqn_model.learn(int(1e3))\n",
    "    dqn_model.save(f\"dqn_scenario_{scenario_id}_model\")\n",
    "    \n",
    "    # Evaluate the models\n",
    "    ppo_mean_reward, ppo_std_reward = evaluate_policy(ppo_model, env, n_eval_episodes=10)\n",
    "    dqn_mean_reward, dqn_std_reward = evaluate_policy(dqn_model, env, n_eval_episodes=10)\n",
    "    \n",
    "    print(f\"Scenario {scenario_id} - PPO Average reward: {ppo_mean_reward} ± {ppo_std_reward}\")\n",
    "    print(f\"Scenario {scenario_id} - DQN Average reward: {dqn_mean_reward} ± {dqn_std_reward}\")\n",
    "    \n",
    "    env.close()\n"
   ]
  }
 ],
 "metadata": {
  "kernelspec": {
   "display_name": "Python 3",
   "language": "python",
   "name": "python3"
  },
  "language_info": {
   "codemirror_mode": {
    "name": "ipython",
    "version": 3
   },
   "file_extension": ".py",
   "mimetype": "text/x-python",
   "name": "python",
   "nbconvert_exporter": "python",
   "pygments_lexer": "ipython3",
   "version": "3.12.7"
  }
 },
 "nbformat": 4,
 "nbformat_minor": 2
}
